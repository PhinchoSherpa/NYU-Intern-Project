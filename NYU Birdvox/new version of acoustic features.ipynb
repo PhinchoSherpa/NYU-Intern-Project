{
 "cells": [
  {
   "cell_type": "code",
   "execution_count": 22,
   "metadata": {},
   "outputs": [],
   "source": [
    "import pandas as pd\n",
    "import matplotlib.pyplot as plt\n",
    "import numpy as np\n",
    "from collections import Counter\n",
    "import os\n",
    "import librosa \n",
    "from librosa.display import specshow\n",
    "import tqdm \n",
    "import scipy\n",
    "from copy import deepcopy\n",
    "import skimage.io as io\n",
    "%matplotlib inline"
   ]
  },
  {
   "cell_type": "code",
   "execution_count": 10,
   "metadata": {},
   "outputs": [],
   "source": [
    "os.path.expanduser('~/Users/phinchosherpa/Desktop/nyu/BirdVox-15min')\n",
    "wav_path='/Users/phinchosherpa/Desktop/nyu/BirdVox-15min'"
   ]
  },
  {
   "cell_type": "code",
   "execution_count": 2,
   "metadata": {},
   "outputs": [],
   "source": [
    "def acoustic_features(wav_path, verbose=False):\n",
    "    hop_length = 32\n",
    "    n_fft = 256\n",
    "    n_features = 1 + (n_fft // 2)\n",
    "    chunk_duration = 10 # in seconds\n",
    "    \n",
    "    y, sr = librosa.load(wav_path)\n",
    "    chunk_length = chunk_duration * sr\n",
    "    chunk_hop_length = int(chunk_length * 0.5)\n",
    "    y_chunks = librosa.util.frame(\n",
    "        y, frame_length=chunk_length, hop_length=chunk_hop_length)\n",
    "    n_chunks = y_chunks.shape[1]\n",
    "    \n",
    "    X_dict = {\n",
    "        \"average_energy\": np.full((n_features, n_chunks), np.float32(np.nan)),\n",
    "        \"maximum_energy\": np.full((n_features, n_chunks), np.float32(np.nan)),\n",
    "        \"maximum_spectral-flux\": np.full((n_features, n_chunks), np.float32(np.nan)),\n",
    "        \"acoustic-complexity-index\": np.full((n_features, n_chunks), np.float32(np.nan)),\n",
    "        \"negative-entropy\": np.full((n_features, n_chunks), np.float32(np.nan)),\n",
    "        \"maximum_weighted-phase-deviation\": np.full((n_features, n_chunks), np.float32(np.nan)),\n",
    "        \"maximum_pcen-flux_longdistance\": np.full((n_features, n_chunks), np.float32(np.nan)),\n",
    "        \"maximum_pcen-flux_birdvoxdetect\": np.full((n_features, n_chunks), np.float32(np.nan)),\n",
    "        \"maximum_pcen_longdistance\": np.full((n_features, n_chunks), np.float32(np.nan)),\n",
    "        \"maximum_pcen_birdvoxdetect\": np.full((n_features, n_chunks), np.float32(np.nan))\n",
    "    }\n",
    "    \n",
    "    for chunk_id in tqdm.tqdm(range(n_chunks), disable=(not verbose)):\n",
    "\n",
    "        # Compute Instantaneous frequency spectrogram (ifgram) and\n",
    "        # Short-Term Fourier Transform (STFT).\n",
    "        y_chunk = y_chunks[:, chunk_id]\n",
    "        ifgram, stft = librosa.ifgram(\n",
    "            y_chunk, n_fft=n_fft, hop_length=hop_length, ref_power=1e-6)\n",
    "\n",
    "        # Compute STFT magnitude\n",
    "        spectrogram = np.abs(stft)**2\n",
    "\n",
    "        # Compute average and maximum energy\n",
    "        avg_energy = np.mean(spectrogram, axis=1)\n",
    "        X_dict[\"average_energy\"][:, chunk_id] =\\\n",
    "            avg_energy\n",
    "        X_dict[\"maximum_energy\"][:, chunk_id] =\\\n",
    "            np.max(spectrogram, axis=1)\n",
    "\n",
    "        # Compute acoustic complexity index (ACI).\n",
    "        total_variation = np.abs(np.diff(spectrogram, axis=1))\n",
    "        X_dict[\"acoustic-complexity-index\"][:, chunk_id] =\\\n",
    "            np.mean(total_variation, axis=1) / avg_energy\n",
    "\n",
    "        # Compute maximum spectral flux.\n",
    "        X_dict[\"maximum_spectral-flux\"][:, chunk_id] =\\\n",
    "            np.max(total_variation, axis=1)\n",
    "\n",
    "        # Compute negative entropy. (the greater, the sparser)\n",
    "        X_dict[\"negative-entropy\"][:, chunk_id] =\\\n",
    "            np.array([-scipy.stats.entropy(row**2) for row in spectrogram])\n",
    "\n",
    "        # Compute maximum weighted phase deviation\n",
    "        X_dict[\"maximum_weighted-phase-deviation\"][:, chunk_id] = np.max(\n",
    "            spectrogram[:, :-1] * np.abs(np.diff(ifgram, axis=1)), axis=1)\n",
    "\n",
    "        # Compute max PCEN (DCASE-style)\n",
    "        spectrogram_bis = np.concatenate((spectrogram[:, ::-1], spectrogram), axis=1)\n",
    "        pcen_dcase_bis = librosa.pcen(\n",
    "            spectrogram_bis*(2**16), hop_length=hop_length,\n",
    "            gain=1.0, bias=0.0, power=0.0, time_constant=0.1)\n",
    "        X_dict[\"maximum_pcen-flux_longdistance\"][:, chunk_id] = np.max(np.abs(np.diff(\n",
    "            pcen_dcase_bis[:, stft.shape[1]:], axis=1)), axis=1)\n",
    "        X_dict[\"maximum_pcen-flux_longdistance\"][:, chunk_id] = np.max(\n",
    "            pcen_dcase_bis[:, stft.shape[1]:], axis=1)\n",
    "\n",
    "        # Compute max PCEN (BirdVoxDetect-style)\n",
    "        pcen_bvd_bis = librosa.pcen(\n",
    "            spectrogram_bis*(2**16), hop_length=hop_length,\n",
    "            gain=0.8, bias=10.0, power=0.25, time_constant=0.06)\n",
    "        X_dict[\"maximum_pcen-flux_birdvoxdetect\"][:, chunk_id] = np.max(\n",
    "            pcen_bvd_bis[:, stft.shape[1]:], axis=1)\n",
    "        X_dict[\"maximum_pcen_birdvoxdetect\"][:, chunk_id] = np.max(\n",
    "            np.abs(np.diff(pcen_bvd_bis[:, stft.shape[1]:], axis=1)), axis=1)\n",
    "    \n",
    "    # Return dictionary of features.\n",
    "    return X_dict"
   ]
  },
  {
   "cell_type": "code",
   "execution_count": null,
   "metadata": {},
   "outputs": [],
   "source": []
  },
  {
   "cell_type": "code",
   "execution_count": 9,
   "metadata": {},
   "outputs": [],
   "source": [
    "os.path.expanduser('~/Users/phinchosherpa/Desktop/nyu/BirdVox-15min/unit01_10-08-45.wav')\n",
    "wav_path='/Users/phinchosherpa/Desktop/nyu/BirdVox-15min/unit01_10-08-45.wav'"
   ]
  },
  {
   "cell_type": "code",
   "execution_count": 15,
   "metadata": {},
   "outputs": [],
   "source": [
    "#X_dicts=[]\n",
    "X_dict = acoustic_features(wav_path)\n",
    "#X_dicts.append(X_dict)"
   ]
  },
  {
   "cell_type": "code",
   "execution_count": 21,
   "metadata": {},
   "outputs": [
    {
     "data": {
      "text/plain": [
       "<matplotlib.axes._subplots.AxesSubplot at 0x102ce5c18>"
      ]
     },
     "execution_count": 21,
     "metadata": {},
     "output_type": "execute_result"
    },
    {
     "data": {
      "image/png": "[encoded data removed]",
      "text/plain": [
       "<Figure size 432x288 with 1 Axes>"
      ]
     },
     "metadata": {},
     "output_type": "display_data"
    }
   ],
   "source": [
    "feature_strs = ['average_energy',\n",
    " 'maximum_energy',\n",
    " 'maximum_spectral-flux',\n",
    " 'acoustic-complexity-index',\n",
    " 'information-entropy',\n",
    " 'maximum_weighted-phase-deviation',\n",
    " 'maximum_pcen-flux_longdistance',\n",
    " 'maximum_pcen-flux_birdvoxdetect',\n",
    " 'maximum_pcen_longdistance',\n",
    " 'maximum_pcen_birdvoxdetect']\n",
    "\n",
    "bin_start = 40\n",
    "bin_stop = 100\n",
    "\n",
    " #TODO: make bin_start:bin_stop exactly 1 kHz - 10 kHz\n",
    "specshow(X_dict[\"average_energy\"][bin_start:bin_stop, :], cmap='gray_r')"
   ]
  },
  {
   "cell_type": "code",
   "execution_count": 55,
   "metadata": {},
   "outputs": [],
   "source": [
    "RGB = np.stack((\n",
    "    X_dict[\"maximum_weighted-phase-deviation\"],\n",
    "    X_dict[\"maximum_pcen-flux_longdistance\"],\n",
    "    X_dict[\"maximum_pcen-flux_birdvoxdetect\"]\n",
    "), axis=-1);"
   ]
  },
  {
   "cell_type": "code",
   "execution_count": 57,
   "metadata": {},
   "outputs": [],
   "source": [
    "R = deepcopy(RGB)[:, :];\n",
    "R[:, :, 1] = 0;\n",
    "R[:, :, 2] = 0;\n",
    "\n",
    "G = deepcopy(RGB);\n",
    "G[:, :, 0] = 0;\n",
    "G[:, :, 2] = 0;\n",
    "\n",
    "B = deepcopy(RGB);\n",
    "B[:, :, 0] = 0;\n",
    "B[:, :, 1] = 0;"
   ]
  },
  {
   "cell_type": "code",
   "execution_count": 60,
   "metadata": {},
   "outputs": [
    {
     "name": "stderr",
     "output_type": "stream",
     "text": [
      "Clipping input data to the valid range for imshow with RGB data ([0..1] for floats or [0..255] for integers).\n",
      "Clipping input data to the valid range for imshow with RGB data ([0..1] for floats or [0..255] for integers).\n",
      "Clipping input data to the valid range for imshow with RGB data ([0..1] for floats or [0..255] for integers).\n"
     ]
    },
    {
     "data": {
      "text/plain": [
       "<matplotlib.image.AxesImage at 0x118c0cf98>"
      ]
     },
     "execution_count": 60,
     "metadata": {},
     "output_type": "execute_result"
    },
    {
     "data": {
      "image/png": "[encoded data removed]",
      "text/plain": [
       "<Figure size 432x288 with 4 Axes>"
      ]
     },
     "metadata": {
      "needs_background": "light"
     },
     "output_type": "display_data"
    }
   ],
   "source": [
    "fig, ax = plt.subplots(ncols=2, nrows=2)\n",
    "\n",
    "ax[0,1].imshow(R, aspect=\"auto\", origin=\"lower\")\n",
    "ax[1,0].imshow(G, aspect=\"auto\", origin=\"lower\")\n",
    "ax[1,1].imshow(B, aspect=\"auto\", origin=\"lower\")"
   ]
  },
  {
   "cell_type": "code",
   "execution_count": 56,
   "metadata": {},
   "outputs": [
    {
     "data": {
      "text/plain": [
       "(129, 11, 3)"
      ]
     },
     "execution_count": 56,
     "metadata": {},
     "output_type": "execute_result"
    }
   ],
   "source": [
    "aspect ratio"
   ]
  },
  {
   "cell_type": "code",
   "execution_count": null,
   "metadata": {},
   "outputs": [],
   "source": []
  }
 ],
 "metadata": {
  "kernelspec": {
   "display_name": "Python 3",
   "language": "python",
   "name": "python3"
  },
  "language_info": {
   "codemirror_mode": {
    "name": "ipython",
    "version": 3
   },
   "file_extension": ".py",
   "mimetype": "text/x-python",
   "name": "python",
   "nbconvert_exporter": "python",
   "pygments_lexer": "ipython3",
   "version": "3.7.3"
  }
 },
 "nbformat": 4,
 "nbformat_minor": 2
}
