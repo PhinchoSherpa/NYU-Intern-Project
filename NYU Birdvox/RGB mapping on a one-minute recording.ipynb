{
 "cells": [
  {
   "cell_type": "code",
   "execution_count": 6,
   "metadata": {},
   "outputs": [],
   "source": [
    "import pandas as pd\n",
    "import matplotlib.pyplot as plt\n",
    "import numpy as np\n",
    "from collections import Counter\n",
    "import os\n",
    "import librosa \n",
    "from librosa.display import specshow\n",
    "import tqdm \n",
    "import scipy\n",
    "from copy import deepcopy\n",
    "import sklearn\n",
    "import skimage.io as io\n",
    "%matplotlib inline"
   ]
  },
  {
   "cell_type": "code",
   "execution_count": 2,
   "metadata": {},
   "outputs": [],
   "source": [
    "os.path.expanduser('~/Users/phinchosherpa/Desktop/nyu/BirdVox-15min/unit01_10-08-45.wav')\n",
    "wav_path='/Users/phinchosherpa/Desktop/nyu/BirdVox-15min/unit01_10-08-45.wav'"
   ]
  },
  {
   "cell_type": "code",
   "execution_count": 3,
   "metadata": {},
   "outputs": [],
   "source": [
    "def acoustic_features(wav_path, verbose=False):\n",
    "    hop_length = 32\n",
    "    n_fft = 256\n",
    "    chunk_duration = 10 # in seconds\n",
    "    y, sr = librosa.load(wav_path)\n",
    "    chunk_length = chunk_duration * sr\n",
    "    chunk_hop_length = int(chunk_length * 0.5)\n",
    "    y_chunks = librosa.util.frame(\n",
    "        y, frame_length=chunk_length, hop_length=chunk_hop_length)\n",
    "    n_chunks = y_chunks.shape[1]\n",
    "    \n",
    "    fft_frequencies = librosa.fft_frequencies(sr=sr, n_fft=n_fft)\n",
    "    fmin = 1000 # in Hertz\n",
    "    fmax = 10000 # in Hertz\n",
    "    bin_start = np.where(fft_frequencies>=fmin)[0][0]\n",
    "    bin_stop = np.where(fft_frequencies<fmax)[0][-1]\n",
    "    n_bins = bin_stop - bin_start\n",
    "    \n",
    "    X_dict = {\n",
    "        \"average_energy\": np.full((n_bins, n_chunks), np.float64(np.nan)),\n",
    "        \"maximum_energy\": np.full((n_bins, n_chunks), np.float64(np.nan)),\n",
    "        \"maximum_spectral-flux\": np.full((n_bins, n_chunks), np.float64(np.nan)),\n",
    "        \"acoustic-complexity-index\": np.full((n_bins, n_chunks), np.float64(np.nan)),\n",
    "        \"negative-entropy\": np.full((n_bins, n_chunks), np.float64(np.nan)),\n",
    "        \"maximum_weighted-phase-deviation\": np.full((n_bins, n_chunks), np.float64(np.nan)),\n",
    "        \"maximum_pcen-flux_longdistance\": np.full((n_bins, n_chunks), np.float64(np.nan)),\n",
    "        \"maximum_pcen-flux_birdvoxdetect\": np.full((n_bins, n_chunks), np.float64(np.nan)),\n",
    "        \"maximum_pcen_longdistance\": np.full((n_bins, n_chunks), np.float64(np.nan)),\n",
    "        \"maximum_pcen_birdvoxdetect\": np.full((n_bins, n_chunks), np.float64(np.nan))\n",
    "    }\n",
    "    for chunk_id in tqdm.tqdm(range(n_chunks), disable=(not verbose)):\n",
    "        # Compute Instantaneous frequency spectrogram (ifgram) and\n",
    "        # Short-Term Fourier Transform (STFT).\n",
    "        y_chunk = y_chunks[:, chunk_id]\n",
    "        ifgram, stft = librosa.ifgram(\n",
    "            y_chunk, n_fft=n_fft, hop_length=hop_length, ref_power=1e-6)\n",
    "        \n",
    "        # Restrict to 1kHz - 10kHz frequency range.\n",
    "        ifgram = ifgram[bin_start:bin_stop, :]\n",
    "        stft = stft[bin_start:bin_stop, :]\n",
    "        # Compute STFT magnitude\n",
    "        spectrogram = np.abs(stft)**2\n",
    "        # Compute average and maximum energy\n",
    "        avg_energy = np.mean(spectrogram, axis=1)\n",
    "        X_dict[\"average_energy\"][:, chunk_id] =\\\n",
    "            avg_energy\n",
    "        X_dict[\"maximum_energy\"][:, chunk_id] =\\\n",
    "            np.max(spectrogram, axis=1)\n",
    "        # Compute acoustic complexity index (ACI).\n",
    "        total_variation = np.abs(np.diff(spectrogram, axis=1))\n",
    "        X_dict[\"acoustic-complexity-index\"][:, chunk_id] =\\\n",
    "            np.mean(total_variation, axis=1) / avg_energy\n",
    "        # Compute maximum spectral flux.\n",
    "        X_dict[\"maximum_spectral-flux\"][:, chunk_id] =\\\n",
    "            np.max(total_variation, axis=1)\n",
    "        # Compute negative entropy. (the greater, the sparser)\n",
    "        X_dict[\"negative-entropy\"][:, chunk_id] =\\\n",
    "            np.array([-scipy.stats.entropy(row**2) for row in spectrogram])\n",
    "        # Compute maximum weighted phase deviation\n",
    "        X_dict[\"maximum_weighted-phase-deviation\"][:, chunk_id] = np.max(\n",
    "            spectrogram[:, :-1] * np.abs(np.diff(ifgram, axis=1)), axis=1)\n",
    "        # Compute max PCEN (DCASE-style)\n",
    "        spectrogram_bis = np.concatenate((spectrogram[:, ::-1], spectrogram), axis=1)\n",
    "        pcen_dcase_bis = librosa.pcen(\n",
    "            spectrogram_bis*(2**16), hop_length=hop_length,\n",
    "            gain=1.0, bias=0.0, power=0.0, time_constant=0.1)\n",
    "        X_dict[\"maximum_pcen-flux_longdistance\"][:, chunk_id] = np.max(np.abs(np.diff(\n",
    "            pcen_dcase_bis[:, stft.shape[1]:], axis=1)), axis=1)\n",
    "        X_dict[\"maximum_pcen_longdistance\"][:, chunk_id] = np.max(\n",
    "            pcen_dcase_bis[:, stft.shape[1]:], axis=1)\n",
    "        # Compute max PCEN (BirdVoxDetect-style)\n",
    "        pcen_bvd_bis = librosa.pcen(\n",
    "            spectrogram_bis*(2**16), hop_length=hop_length,\n",
    "            gain=0.8, bias=10.0, power=0.25, time_constant=0.06)\n",
    "        X_dict[\"maximum_pcen-flux_birdvoxdetect\"][:, chunk_id] = np.max(\n",
    "            pcen_bvd_bis[:, stft.shape[1]:], axis=1)\n",
    "        X_dict[\"maximum_pcen_birdvoxdetect\"][:, chunk_id] = np.max(\n",
    "            np.abs(np.diff(pcen_bvd_bis[:, stft.shape[1]:], axis=1)), axis=1)\n",
    "    # Apply global Box-Cos transformation \n",
    "    epsilon = np.finfo(np.float32).eps\n",
    "    for k in X_dict:\n",
    "        x_ravel = X_dict[k].ravel()\n",
    "        if np.all(x_ravel<0):\n",
    "            x_ravel = -x_ravel\n",
    "        x_ravel_eps = x_ravel + epsilon\n",
    "        x_ravel_bc, _ = scipy.stats.boxcox(x_ravel_eps)\n",
    "        x_bc = np.reshape(x_ravel_bc, X_dict[k].shape)\n",
    "        if np.all(x_ravel<0):\n",
    "            x_bc = -x_bc\n",
    "        X_dict[k] = sklearn.preprocessing.MinMaxScaler(\n",
    "            feature_range=(0.001, 0.999)).fit_transform(x_bc)\n",
    "        \n",
    "    return X_dict"
   ]
  },
  {
   "cell_type": "code",
   "execution_count": 17,
   "metadata": {},
   "outputs": [
    {
     "data": {
      "text/plain": [
       "['unit07_00-23-50.wav',\n",
       " 'unit01_10-08-45.wav',\n",
       " 'unit10_00-00-50.wav',\n",
       " 'unit02_00-00-30.wav',\n",
       " 'unit05_03-48-40.wav',\n",
       " 'unit05_09-54-10.wav',\n",
       " 'unit10_07-54-24.wav',\n",
       " 'unit01_10-41-15.wav',\n",
       " 'unit02_00-23-30.wav',\n",
       " 'unit10_01-01-25.wav',\n",
       " 'unit01_10-31-25.wav',\n",
       " 'unit03_00-19-45.wav',\n",
       " 'unit07_00-11-00.wav',\n",
       " 'unit03_10-34-20.wav',\n",
       " 'unit10_00-22-10.wav']"
      ]
     },
     "execution_count": 17,
     "metadata": {},
     "output_type": "execute_result"
    }
   ],
   "source": [
    "os.listdir('/Users/phinchosherpa/Desktop/nyu/BirdVox-15min/')"
   ]
  },
  {
   "cell_type": "code",
   "execution_count": 19,
   "metadata": {},
   "outputs": [],
   "source": [
    "wav_path='/Users/phinchosherpa/Desktop/nyu/BirdVox-15min/unit10_07-54-24.wav'"
   ]
  },
  {
   "cell_type": "code",
   "execution_count": 21,
   "metadata": {},
   "outputs": [
    {
     "data": {
      "text/plain": [
       "<matplotlib.axes._subplots.AxesSubplot at 0x11b070390>"
      ]
     },
     "execution_count": 21,
     "metadata": {},
     "output_type": "execute_result"
    },
    {
     "data": {
      "image/png": "[encoded data removed]",
      "text/plain": [
       "<Figure size 432x288 with 1 Axes>"
      ]
     },
     "metadata": {},
     "output_type": "display_data"
    }
   ],
   "source": [
    "\n",
    "X_dict = acoustic_features(wav_path)\n",
    "feature_strs = ['average_energy',\n",
    " 'maximum_energy',\n",
    " 'maximum_spectral-flux',\n",
    " 'acoustic-complexity-index',\n",
    " 'negative-entropy',\n",
    " 'maximum_weighted-phase-deviation',\n",
    " 'maximum_pcen-flux_longdistance',\n",
    " 'maximum_pcen-flux_birdvoxdetect',\n",
    " 'maximum_pcen_longdistance',\n",
    " 'maximum_pcen_birdvoxdetect']\n",
    "\n",
    "\n",
    "#specshow(X_dict[\"average_energy\"], cmap='gray_r')\n",
    "specshow(X_dict[\"maximum_spectral-flux\"], cmap='magma')\n",
    "specshow(X_dict[\"average_energy\"], cmap='magma')"
   ]
  },
  {
   "cell_type": "code",
   "execution_count": 22,
   "metadata": {},
   "outputs": [],
   "source": []
  },
  {
   "cell_type": "code",
   "execution_count": 26,
   "metadata": {},
   "outputs": [
    {
     "data": {
      "text/plain": [
       "<matplotlib.image.AxesImage at 0x11bb896d8>"
      ]
     },
     "execution_count": 26,
     "metadata": {},
     "output_type": "execute_result"
    },
    {
     "data": {
      "text/plain": [
       "<Figure size 1080x1080 with 0 Axes>"
      ]
     },
     "metadata": {},
     "output_type": "display_data"
    },
    {
     "data": {
      "image/png": "[encoded data removed]",
      "text/plain": [
       "<Figure size 1080x720 with 4 Axes>"
      ]
     },
     "metadata": {
      "needs_background": "light"
     },
     "output_type": "display_data"
    }
   ],
   "source": [
    "RGB = np.stack((\n",
    "    X_dict['maximum_pcen_longdistance'],\n",
    "    X_dict[\"negative-entropy\"],\n",
    "    X_dict[\"maximum_weighted-phase-deviation\"]\n",
    "), axis=-1);\n",
    "\n",
    "R = deepcopy(RGB)[:, :];\n",
    "R[:, :, 1] = 0;\n",
    "R[:, :, 2] = 0;\n",
    "\n",
    "G = deepcopy(RGB);\n",
    "G[:, :, 0] = 0;\n",
    "G[:, :, 2] = 0;\n",
    "\n",
    "B = deepcopy(RGB);\n",
    "B[:, :, 0] = 0;\n",
    "B[:, :, 1] = 0;\n",
    "\n",
    "W= R+G+B\n",
    "\n",
    "plt.figure(figsize=(15, 15))\n",
    "fig, ax = plt.subplots(ncols=2, nrows=2, figsize=(15, 10))\n",
    "\n",
    "ax[0,0].imshow(R, aspect=\"auto\", origin=\"lower\")\n",
    "ax[0,1].imshow(G, aspect=\"auto\", origin=\"lower\")\n",
    "ax[1,0].imshow(B, aspect=\"auto\", origin=\"lower\")\n",
    "ax[1,1].imshow(W, aspect=\"auto\", origin=\"lower\")"
   ]
  },
  {
   "cell_type": "code",
   "execution_count": null,
   "metadata": {},
   "outputs": [],
   "source": []
  },
  {
   "cell_type": "code",
   "execution_count": 15,
   "metadata": {},
   "outputs": [
    {
     "data": {
      "text/plain": [
       "0.9990000000000023"
      ]
     },
     "execution_count": 15,
     "metadata": {},
     "output_type": "execute_result"
    }
   ],
   "source": [
    "\n"
   ]
  },
  {
   "cell_type": "code",
   "execution_count": null,
   "metadata": {},
   "outputs": [],
   "source": []
  }
 ],
 "metadata": {
  "kernelspec": {
   "display_name": "Python 3",
   "language": "python",
   "name": "python3"
  },
  "language_info": {
   "codemirror_mode": {
    "name": "ipython",
    "version": 3
   },
   "file_extension": ".py",
   "mimetype": "text/x-python",
   "name": "python",
   "nbconvert_exporter": "python",
   "pygments_lexer": "ipython3",
   "version": "3.7.3"
  }
 },
 "nbformat": 4,
 "nbformat_minor": 2
}
